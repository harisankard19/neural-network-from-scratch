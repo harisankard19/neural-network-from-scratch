{
  "nbformat": 4,
  "nbformat_minor": 0,
  "metadata": {
    "colab": {
      "provenance": []
    },
    "kernelspec": {
      "name": "python3",
      "display_name": "Python 3"
    },
    "language_info": {
      "name": "python"
    }
  },
  "cells": [
    {
      "cell_type": "code",
      "execution_count": null,
      "metadata": {
        "id": "YGNrS5UvnDRn"
      },
      "outputs": [],
      "source": [
        "import numpy as np\n",
        "import pandas as pd\n",
        "import matplotlib.pyplot as plt"
      ]
    },
    {
      "cell_type": "code",
      "source": [
        "from google.colab import drive\n",
        "drive.mount('/content/drive')"
      ],
      "metadata": {
        "colab": {
          "base_uri": "https://localhost:8080/"
        },
        "id": "sQjm8CjvoFJd",
        "outputId": "1c7757b7-c466-4317-dd92-e6f2db1b6a06"
      },
      "execution_count": null,
      "outputs": [
        {
          "output_type": "stream",
          "name": "stdout",
          "text": [
            "Mounted at /content/drive\n"
          ]
        }
      ]
    },
    {
      "cell_type": "code",
      "source": [
        "file_path = '/content/drive/MyDrive/AIML Course/Datasets/mnist_with_labels.csv'"
      ],
      "metadata": {
        "id": "KybAHW4Toa-a"
      },
      "execution_count": null,
      "outputs": []
    },
    {
      "cell_type": "code",
      "source": [
        "data = pd.read_csv(file_path)"
      ],
      "metadata": {
        "id": "q1PDBIK9owjZ"
      },
      "execution_count": null,
      "outputs": []
    },
    {
      "cell_type": "code",
      "source": [
        "print(data.head(10))"
      ],
      "metadata": {
        "colab": {
          "base_uri": "https://localhost:8080/"
        },
        "id": "mnboTyJQo2Sn",
        "outputId": "9f6ab87d-4e31-44da-ff7b-11e2fdd8e97d"
      },
      "execution_count": null,
      "outputs": [
        {
          "output_type": "stream",
          "name": "stdout",
          "text": [
            "   label  pixel1  pixel2  pixel3  pixel4  pixel5  pixel6  pixel7  pixel8  \\\n",
            "0      5       0       0       0       0       0       0       0       0   \n",
            "1      0       0       0       0       0       0       0       0       0   \n",
            "2      4       0       0       0       0       0       0       0       0   \n",
            "3      1       0       0       0       0       0       0       0       0   \n",
            "4      9       0       0       0       0       0       0       0       0   \n",
            "5      2       0       0       0       0       0       0       0       0   \n",
            "6      1       0       0       0       0       0       0       0       0   \n",
            "7      3       0       0       0       0       0       0       0       0   \n",
            "8      1       0       0       0       0       0       0       0       0   \n",
            "9      4       0       0       0       0       0       0       0       0   \n",
            "\n",
            "   pixel9  ...  pixel775  pixel776  pixel777  pixel778  pixel779  pixel780  \\\n",
            "0       0  ...         0         0         0         0         0         0   \n",
            "1       0  ...         0         0         0         0         0         0   \n",
            "2       0  ...         0         0         0         0         0         0   \n",
            "3       0  ...         0         0         0         0         0         0   \n",
            "4       0  ...         0         0         0         0         0         0   \n",
            "5       0  ...         0         0         0         0         0         0   \n",
            "6       0  ...         0         0         0         0         0         0   \n",
            "7       0  ...         0         0         0         0         0         0   \n",
            "8       0  ...         0         0         0         0         0         0   \n",
            "9       0  ...         0         0         0         0         0         0   \n",
            "\n",
            "   pixel781  pixel782  pixel783  pixel784  \n",
            "0         0         0         0         0  \n",
            "1         0         0         0         0  \n",
            "2         0         0         0         0  \n",
            "3         0         0         0         0  \n",
            "4         0         0         0         0  \n",
            "5         0         0         0         0  \n",
            "6         0         0         0         0  \n",
            "7         0         0         0         0  \n",
            "8         0         0         0         0  \n",
            "9         0         0         0         0  \n",
            "\n",
            "[10 rows x 785 columns]\n"
          ]
        }
      ]
    },
    {
      "cell_type": "code",
      "source": [
        "data = np.array(data)"
      ],
      "metadata": {
        "id": "r8cEkqL1pZzh"
      },
      "execution_count": null,
      "outputs": []
    },
    {
      "cell_type": "code",
      "source": [
        "m, n = data.shape\n",
        "print(data.shape)"
      ],
      "metadata": {
        "colab": {
          "base_uri": "https://localhost:8080/"
        },
        "id": "3WhnuIaNprZS",
        "outputId": "deb3b177-2740-4598-fca4-0755c132d0a8"
      },
      "execution_count": null,
      "outputs": [
        {
          "output_type": "stream",
          "name": "stdout",
          "text": [
            "(70000, 785)\n"
          ]
        }
      ]
    },
    {
      "cell_type": "code",
      "source": [
        "np.random.shuffle(data)\n"
      ],
      "metadata": {
        "id": "mhgFYznhp7Oa"
      },
      "execution_count": null,
      "outputs": []
    },
    {
      "cell_type": "code",
      "source": [
        "print(data)"
      ],
      "metadata": {
        "colab": {
          "base_uri": "https://localhost:8080/"
        },
        "id": "9GEO7Cf5qGEh",
        "outputId": "0645da4a-bc15-4d85-b911-131817a05d56"
      },
      "execution_count": null,
      "outputs": [
        {
          "output_type": "stream",
          "name": "stdout",
          "text": [
            "[[8 0 0 ... 0 0 0]\n",
            " [9 0 0 ... 0 0 0]\n",
            " [4 0 0 ... 0 0 0]\n",
            " ...\n",
            " [6 0 0 ... 0 0 0]\n",
            " [0 0 0 ... 0 0 0]\n",
            " [4 0 0 ... 0 0 0]]\n"
          ]
        }
      ]
    },
    {
      "cell_type": "code",
      "source": [
        "data_dev = data[0:1000].T\n"
      ],
      "metadata": {
        "id": "5xhMJ4lUqayT"
      },
      "execution_count": null,
      "outputs": []
    },
    {
      "cell_type": "code",
      "source": [
        "print(data_dev)"
      ],
      "metadata": {
        "colab": {
          "base_uri": "https://localhost:8080/"
        },
        "id": "xdyWcc17qsPx",
        "outputId": "fcb7770b-7c01-4e26-967f-2cd5e3ad1d58"
      },
      "execution_count": null,
      "outputs": [
        {
          "output_type": "stream",
          "name": "stdout",
          "text": [
            "[[8 9 4 ... 7 1 3]\n",
            " [0 0 0 ... 0 0 0]\n",
            " [0 0 0 ... 0 0 0]\n",
            " ...\n",
            " [0 0 0 ... 0 0 0]\n",
            " [0 0 0 ... 0 0 0]\n",
            " [0 0 0 ... 0 0 0]]\n"
          ]
        }
      ]
    },
    {
      "cell_type": "code",
      "source": [
        "Y_dev = data_dev[0]\n",
        "X_dev = data_dev[1:n]\n",
        "X_dev = X_dev / 255."
      ],
      "metadata": {
        "id": "ypR5PLEcqonC"
      },
      "execution_count": null,
      "outputs": []
    },
    {
      "cell_type": "code",
      "source": [
        "data_train = data[1000:m].T\n",
        "Y_train = data_train[0]\n",
        "X_train = data_train[1:n]\n",
        "X_train = X_train / 255."
      ],
      "metadata": {
        "id": "eflcAvd1q9yj"
      },
      "execution_count": null,
      "outputs": []
    },
    {
      "cell_type": "code",
      "source": [
        "print(X_train.shape)\n",
        "print(Y_train.shape)"
      ],
      "metadata": {
        "colab": {
          "base_uri": "https://localhost:8080/"
        },
        "id": "iNnQb8ZdrQWa",
        "outputId": "3100be09-7dce-4b97-e1c9-81874cb5b481"
      },
      "execution_count": null,
      "outputs": [
        {
          "output_type": "stream",
          "name": "stdout",
          "text": [
            "(784, 69000)\n",
            "(69000,)\n"
          ]
        }
      ]
    },
    {
      "cell_type": "code",
      "source": [
        "def init_params():\n",
        "    W1 = np.random.rand(10, 784) - 0.5\n",
        "    b1 = np.random.rand(10, 1) - 0.5\n",
        "    W2 = np.random.rand(10, 10) - 0.5\n",
        "    b2 = np.random.rand(10, 1) - 0.5\n",
        "    return W1, b1, W2, b2"
      ],
      "metadata": {
        "id": "IeQX10jotrXY"
      },
      "execution_count": null,
      "outputs": []
    },
    {
      "cell_type": "code",
      "source": [
        "def ReLU(Z):\n",
        "    return np.maximum(Z, 0)"
      ],
      "metadata": {
        "id": "UlpEtOCeuO8K"
      },
      "execution_count": null,
      "outputs": []
    },
    {
      "cell_type": "code",
      "source": [
        "def softmax(Z):\n",
        "    A = np.exp(Z) / sum(np.exp(Z))\n",
        "    return A"
      ],
      "metadata": {
        "id": "R8i9AGtOugCJ"
      },
      "execution_count": null,
      "outputs": []
    },
    {
      "cell_type": "code",
      "source": [
        "def ReLU_deriv(Z):\n",
        "    return Z > 0 #check"
      ],
      "metadata": {
        "id": "Ymkin-MOu4Vy"
      },
      "execution_count": null,
      "outputs": []
    },
    {
      "cell_type": "code",
      "source": [
        "print(3*ReLU_deriv(2))"
      ],
      "metadata": {
        "colab": {
          "base_uri": "https://localhost:8080/"
        },
        "id": "nFhjOaWBvZ-M",
        "outputId": "5ebfee18-00b3-4618-94c4-55bebf126c25"
      },
      "execution_count": null,
      "outputs": [
        {
          "output_type": "stream",
          "name": "stdout",
          "text": [
            "3\n"
          ]
        }
      ]
    },
    {
      "cell_type": "code",
      "source": [
        "print(3*ReLU_deriv(0))"
      ],
      "metadata": {
        "colab": {
          "base_uri": "https://localhost:8080/"
        },
        "id": "LZ0DOEknvsXP",
        "outputId": "cf092266-a812-4511-de65-1f294fdb856f"
      },
      "execution_count": null,
      "outputs": [
        {
          "output_type": "stream",
          "name": "stdout",
          "text": [
            "0\n"
          ]
        }
      ]
    },
    {
      "cell_type": "code",
      "source": [
        "ReLU_deriv(2)"
      ],
      "metadata": {
        "colab": {
          "base_uri": "https://localhost:8080/"
        },
        "id": "1UxfZj6gvyHV",
        "outputId": "2c25b457-dc13-4554-f180-110f5e68ef68"
      },
      "execution_count": null,
      "outputs": [
        {
          "output_type": "execute_result",
          "data": {
            "text/plain": [
              "True"
            ]
          },
          "metadata": {},
          "execution_count": 21
        }
      ]
    },
    {
      "cell_type": "code",
      "source": [
        "def forward_prop(W1, b1, W2, b2, X):\n",
        "    Z1 = W1.dot(X) + b1\n",
        "    A1 = ReLU(Z1)\n",
        "    Z2 = W2.dot(A1) + b2\n",
        "    A2 = softmax(Z2)\n",
        "    return Z1, A1, Z2, A2"
      ],
      "metadata": {
        "id": "MQoY5sGNvceZ"
      },
      "execution_count": null,
      "outputs": []
    },
    {
      "cell_type": "code",
      "source": [
        "def one_hot(Y):\n",
        "    one_hot_Y = np.zeros((Y.size, Y.max() + 1))\n",
        "    one_hot_Y[np.arange(Y.size), Y] = 1\n",
        "    one_hot_Y = one_hot_Y.T\n",
        "    return one_hot_Y"
      ],
      "metadata": {
        "id": "u4pliaZewfrF"
      },
      "execution_count": null,
      "outputs": []
    },
    {
      "cell_type": "code",
      "source": [
        "def backward_prop(Z1, A1, Z2, A2, W1, W2, X, Y):\n",
        "  one_hot_Y = one_hot(Y)\n",
        "  dZ2 = A2 - one_hot_Y\n",
        "  dW2 = dZ2.dot(A1.T)\n",
        "  db2 = np.sum(dZ2)\n",
        "\n",
        "  dZ1 = W2.T.dot(dZ2) * ReLU_deriv(Z1)\n",
        "  dW1 = dZ1.dot(X.T)\n",
        "  db1 = np.sum(dZ1)\n",
        "  return dW1, db1, dW2, db2"
      ],
      "metadata": {
        "id": "0WMlDxByyRpT"
      },
      "execution_count": null,
      "outputs": []
    },
    {
      "cell_type": "code",
      "source": [
        "def update_params(W1, b1, W2, b2, dW1, db1, dW2, db2, eta):\n",
        "    W1 = W1 - eta * dW1\n",
        "    b1 = b1 - eta * db1\n",
        "    W2 = W2 - eta * dW2\n",
        "    b2 = b2 - eta * db2\n",
        "    return W1, b1, W2, b2"
      ],
      "metadata": {
        "id": "FUzrfv8cxJVj"
      },
      "execution_count": null,
      "outputs": []
    },
    {
      "cell_type": "code",
      "source": [
        "def get_predictions(A2):\n",
        "    return np.argmax(A2, 0)"
      ],
      "metadata": {
        "id": "EYG93J-n1J7l"
      },
      "execution_count": null,
      "outputs": []
    },
    {
      "cell_type": "code",
      "source": [
        "epochs=500\n",
        "import random\n",
        "random.seed(42)\n",
        "W1, b1, W2, b2 = init_params()\n",
        "eta=0.00001\n",
        "for i in range(epochs):\n",
        "  #breakpoint()\n",
        "  Z1, A1, Z2, A2 = forward_prop(W1, b1, W2, b2, X_train)\n",
        "  dW1, db1, dW2, db2 = backward_prop(Z1, A1, Z2, A2, W1, W2, X_train, Y_train)\n",
        "  W1, b1, W2, b2 = update_params(W1, b1, W2, b2, dW1, db1, dW2, db2, eta)\n",
        "  if i % 10 == 0:\n",
        "    print(\"epochs: \", i)\n",
        "    predictions = get_predictions(A2)\n",
        "    print(predictions, Y_train)\n",
        "    print(np.sum(predictions == Y_train) / Y_train.size)\n",
        "\n"
      ],
      "metadata": {
        "colab": {
          "base_uri": "https://localhost:8080/"
        },
        "id": "VuveOF8axZ1y",
        "outputId": "7401edea-5d5e-464c-9512-e384dee99a26"
      },
      "execution_count": null,
      "outputs": [
        {
          "output_type": "stream",
          "name": "stdout",
          "text": [
            "epochs:  0\n",
            "[8 1 3 ... 3 5 3] [1 7 1 ... 6 0 4]\n",
            "0.11644927536231885\n",
            "epochs:  10\n",
            "[1 7 1 ... 6 0 4] [1 7 1 ... 6 0 4]\n",
            "0.4875507246376812\n",
            "epochs:  20\n",
            "[1 7 1 ... 6 0 4] [1 7 1 ... 6 0 4]\n",
            "0.5925507246376812\n",
            "epochs:  30\n",
            "[1 7 1 ... 6 0 9] [1 7 1 ... 6 0 4]\n",
            "0.6058115942028985\n",
            "epochs:  40\n",
            "[1 7 1 ... 6 0 4] [1 7 1 ... 6 0 4]\n",
            "0.7102463768115942\n",
            "epochs:  50\n",
            "[1 7 1 ... 6 0 4] [1 7 1 ... 6 0 4]\n",
            "0.7534202898550725\n",
            "epochs:  60\n",
            "[1 7 1 ... 6 0 4] [1 7 1 ... 6 0 4]\n",
            "0.7710869565217391\n",
            "epochs:  70\n",
            "[1 7 1 ... 6 0 4] [1 7 1 ... 6 0 4]\n",
            "0.7962898550724637\n",
            "epochs:  80\n",
            "[1 7 1 ... 6 0 4] [1 7 1 ... 6 0 4]\n",
            "0.8182028985507246\n",
            "epochs:  90\n",
            "[1 7 1 ... 6 0 4] [1 7 1 ... 6 0 4]\n",
            "0.8298260869565217\n",
            "epochs:  100\n",
            "[1 7 1 ... 6 0 4] [1 7 1 ... 6 0 4]\n",
            "0.8388985507246377\n",
            "epochs:  110\n",
            "[1 7 1 ... 6 0 4] [1 7 1 ... 6 0 4]\n",
            "0.846463768115942\n",
            "epochs:  120\n",
            "[1 7 1 ... 6 0 4] [1 7 1 ... 6 0 4]\n",
            "0.8498405797101449\n",
            "epochs:  130\n",
            "[1 7 1 ... 6 0 4] [1 7 1 ... 6 0 4]\n",
            "0.8380579710144928\n",
            "epochs:  140\n",
            "[1 7 1 ... 6 0 4] [1 7 1 ... 6 0 4]\n",
            "0.8700869565217392\n",
            "epochs:  150\n",
            "[1 7 1 ... 6 0 4] [1 7 1 ... 6 0 4]\n",
            "0.8544202898550725\n",
            "epochs:  160\n",
            "[1 7 1 ... 6 0 4] [1 7 1 ... 6 0 4]\n",
            "0.8745217391304347\n",
            "epochs:  170\n",
            "[1 7 1 ... 6 0 4] [1 7 1 ... 6 0 4]\n",
            "0.8697536231884058\n",
            "epochs:  180\n",
            "[1 7 1 ... 6 0 4] [1 7 1 ... 6 0 4]\n",
            "0.8716086956521739\n",
            "epochs:  190\n",
            "[1 7 1 ... 6 0 4] [1 7 1 ... 6 0 4]\n",
            "0.8836086956521739\n",
            "epochs:  200\n",
            "[1 7 1 ... 6 0 4] [1 7 1 ... 6 0 4]\n",
            "0.8772028985507246\n",
            "epochs:  210\n",
            "[1 7 1 ... 6 0 4] [1 7 1 ... 6 0 4]\n",
            "0.8817246376811594\n",
            "epochs:  220\n",
            "[1 7 1 ... 6 0 4] [1 7 1 ... 6 0 4]\n",
            "0.8898985507246376\n",
            "epochs:  230\n",
            "[1 7 1 ... 6 0 4] [1 7 1 ... 6 0 4]\n",
            "0.8845652173913043\n",
            "epochs:  240\n",
            "[1 7 1 ... 6 0 4] [1 7 1 ... 6 0 4]\n",
            "0.8840434782608696\n",
            "epochs:  250\n",
            "[1 7 1 ... 6 0 4] [1 7 1 ... 6 0 4]\n",
            "0.8953913043478261\n",
            "epochs:  260\n",
            "[1 7 1 ... 6 0 4] [1 7 1 ... 6 0 4]\n",
            "0.8957536231884058\n",
            "epochs:  270\n",
            "[1 7 1 ... 6 0 4] [1 7 1 ... 6 0 4]\n",
            "0.8766521739130435\n",
            "epochs:  280\n",
            "[1 7 1 ... 6 0 4] [1 7 1 ... 6 0 4]\n",
            "0.8981739130434783\n",
            "epochs:  290\n",
            "[1 7 1 ... 6 0 4] [1 7 1 ... 6 0 4]\n",
            "0.9011304347826087\n",
            "epochs:  300\n",
            "[1 7 1 ... 6 0 4] [1 7 1 ... 6 0 4]\n",
            "0.9014492753623189\n",
            "epochs:  310\n",
            "[1 7 1 ... 6 0 4] [1 7 1 ... 6 0 4]\n",
            "0.8731739130434782\n",
            "epochs:  320\n",
            "[1 7 1 ... 6 0 4] [1 7 1 ... 6 0 4]\n",
            "0.9026231884057971\n",
            "epochs:  330\n",
            "[1 7 1 ... 6 0 4] [1 7 1 ... 6 0 4]\n",
            "0.904463768115942\n",
            "epochs:  340\n",
            "[1 7 1 ... 6 0 4] [1 7 1 ... 6 0 4]\n",
            "0.9054782608695652\n",
            "epochs:  350\n",
            "[1 7 1 ... 6 0 4] [1 7 1 ... 6 0 4]\n",
            "0.9067536231884058\n",
            "epochs:  360\n",
            "[1 7 1 ... 6 0 4] [1 7 1 ... 6 0 4]\n",
            "0.9060144927536232\n",
            "epochs:  370\n",
            "[1 7 1 ... 6 0 4] [1 7 1 ... 6 0 4]\n",
            "0.8246231884057971\n",
            "epochs:  380\n",
            "[1 7 1 ... 6 0 4] [1 7 1 ... 6 0 4]\n",
            "0.9067826086956522\n",
            "epochs:  390\n",
            "[1 7 1 ... 6 0 4] [1 7 1 ... 6 0 4]\n",
            "0.9082608695652173\n",
            "epochs:  400\n",
            "[1 7 1 ... 6 0 4] [1 7 1 ... 6 0 4]\n",
            "0.9091884057971015\n",
            "epochs:  410\n",
            "[1 7 1 ... 6 0 4] [1 7 1 ... 6 0 4]\n",
            "0.909927536231884\n",
            "epochs:  420\n",
            "[1 7 1 ... 6 0 4] [1 7 1 ... 6 0 4]\n",
            "0.9104927536231884\n",
            "epochs:  430\n",
            "[1 7 1 ... 6 0 4] [1 7 1 ... 6 0 4]\n",
            "0.9111304347826087\n",
            "epochs:  440\n",
            "[1 7 1 ... 6 0 4] [1 7 1 ... 6 0 4]\n",
            "0.9117391304347826\n",
            "epochs:  450\n",
            "[1 7 1 ... 6 0 4] [1 7 1 ... 6 0 4]\n",
            "0.9124782608695652\n",
            "epochs:  460\n",
            "[1 7 1 ... 6 0 4] [1 7 1 ... 6 0 4]\n",
            "0.8992173913043479\n",
            "epochs:  470\n",
            "[1 7 1 ... 6 0 4] [1 7 1 ... 6 0 4]\n",
            "0.908536231884058\n",
            "epochs:  480\n",
            "[1 7 1 ... 6 0 4] [1 7 1 ... 6 0 4]\n",
            "0.9121884057971015\n",
            "epochs:  490\n",
            "[1 7 1 ... 6 0 4] [1 7 1 ... 6 0 4]\n",
            "0.9129565217391304\n"
          ]
        }
      ]
    },
    {
      "cell_type": "code",
      "source": [
        "print(W1)"
      ],
      "metadata": {
        "colab": {
          "base_uri": "https://localhost:8080/"
        },
        "id": "tkP9Qvac75QN",
        "outputId": "c23c0448-50bf-4c7f-fabf-bb9158bb2175"
      },
      "execution_count": null,
      "outputs": [
        {
          "output_type": "stream",
          "name": "stdout",
          "text": [
            "[[-0.23393489 -0.29899133 -0.33565604 ...  0.44553901  0.3884943\n",
            "   0.48443481]\n",
            " [ 0.02021151  0.2233148   0.23051137 ... -0.18206283 -0.48070623\n",
            "  -0.09995866]\n",
            " [ 0.16799046 -0.36961601  0.27431477 ...  0.18887252 -0.16009842\n",
            "  -0.20933904]\n",
            " ...\n",
            " [-0.3191618   0.18276625  0.15890359 ...  0.17423392 -0.05851832\n",
            "  -0.29294753]\n",
            " [-0.12869096 -0.22311677 -0.36082718 ...  0.05752328  0.38454503\n",
            "   0.33981767]\n",
            " [ 0.28679691  0.39668944 -0.2431936  ... -0.28776696 -0.25556925\n",
            "  -0.00375074]]\n"
          ]
        }
      ]
    },
    {
      "cell_type": "code",
      "source": [
        "def make_predictions(X, W1, b1, W2, b2):\n",
        "    _, _, _, A2 = forward_prop(W1, b1, W2, b2, X)\n",
        "    predictions = get_predictions(A2)\n",
        "    return predictions"
      ],
      "metadata": {
        "id": "bFVzpqgX3n2j"
      },
      "execution_count": null,
      "outputs": []
    },
    {
      "cell_type": "code",
      "source": [
        "def test_prediction(index, W1, b1, W2, b2):\n",
        "    current_image = X_train[:, index, None]\n",
        "    prediction = make_predictions(X_train[:, index, None], W1, b1, W2, b2)\n",
        "    label = Y_train[index]\n",
        "    print(\"Prediction: \", prediction)\n",
        "    print(\"Label: \", label)\n",
        "\n",
        "    current_image = current_image.reshape((28, 28)) * 255\n",
        "    plt.gray()\n",
        "    plt.imshow(current_image, interpolation='nearest')\n",
        "    plt.show()"
      ],
      "metadata": {
        "id": "Nqsb_FgV3QfB"
      },
      "execution_count": null,
      "outputs": []
    },
    {
      "cell_type": "code",
      "source": [
        "test_prediction(3, W1, b1, W2, b2)\n",
        "test_prediction(0, W1, b1, W2, b2)\n",
        "test_prediction(10, W1, b1, W2, b2)\n",
        "test_prediction(5, W1, b1, W2, b2)"
      ],
      "metadata": {
        "colab": {
          "base_uri": "https://localhost:8080/",
          "height": 1000
        },
        "id": "zyKL2E1Z4oGJ",
        "outputId": "d4c83fb1-eb6b-4f99-d902-aa492dc7798c"
      },
      "execution_count": null,
      "outputs": [
        {
          "output_type": "stream",
          "name": "stdout",
          "text": [
            "Prediction:  [9]\n",
            "Label:  5\n"
          ]
        },
        {
          "output_type": "display_data",
          "data": {
            "text/plain": [
              "<Figure size 640x480 with 1 Axes>"
            ],
            "image/png": "[encoded data removed]"
          },
          "metadata": {}
        },
        {
          "output_type": "stream",
          "name": "stdout",
          "text": [
            "Prediction:  [1]\n",
            "Label:  1\n"
          ]
        },
        {
          "output_type": "display_data",
          "data": {
            "text/plain": [
              "<Figure size 640x480 with 1 Axes>"
            ],
            "image/png": "[encoded data removed]"
          },
          "metadata": {}
        },
        {
          "output_type": "stream",
          "name": "stdout",
          "text": [
            "Prediction:  [6]\n",
            "Label:  6\n"
          ]
        },
        {
          "output_type": "display_data",
          "data": {
            "text/plain": [
              "<Figure size 640x480 with 1 Axes>"
            ],
            "image/png": "[encoded data removed]"
          },
          "metadata": {}
        },
        {
          "output_type": "stream",
          "name": "stdout",
          "text": [
            "Prediction:  [5]\n",
            "Label:  5\n"
          ]
        },
        {
          "output_type": "display_data",
          "data": {
            "text/plain": [
              "<Figure size 640x480 with 1 Axes>"
            ],
            "image/png": "[encoded data removed]"
          },
          "metadata": {}
        }
      ]
    },
    {
      "cell_type": "code",
      "source": [
        "print(Y_train)"
      ],
      "metadata": {
        "colab": {
          "base_uri": "https://localhost:8080/"
        },
        "id": "4z-RinKD5E04",
        "outputId": "b2a62dcf-3450-4958-da8f-2a044e5fd7c6"
      },
      "execution_count": null,
      "outputs": [
        {
          "output_type": "stream",
          "name": "stdout",
          "text": [
            "[1 7 1 ... 6 0 4]\n"
          ]
        }
      ]
    },
    {
      "cell_type": "code",
      "source": [
        "test_prediction(2, W1, b1, W2, b2)\n",
        "test_prediction(1, W1, b1, W2, b2)"
      ],
      "metadata": {
        "colab": {
          "base_uri": "https://localhost:8080/",
          "height": 916
        },
        "id": "Da6oWfLo5VH8",
        "outputId": "0690b088-404a-433a-8641-c8428e265c75"
      },
      "execution_count": null,
      "outputs": [
        {
          "output_type": "stream",
          "name": "stdout",
          "text": [
            "Prediction:  [1]\n",
            "Label:  1\n"
          ]
        },
        {
          "output_type": "display_data",
          "data": {
            "text/plain": [
              "<Figure size 640x480 with 1 Axes>"
            ],
            "image/png": "[encoded data removed]"
          },
          "metadata": {}
        },
        {
          "output_type": "stream",
          "name": "stdout",
          "text": [
            "Prediction:  [7]\n",
            "Label:  7\n"
          ]
        },
        {
          "output_type": "display_data",
          "data": {
            "text/plain": [
              "<Figure size 640x480 with 1 Axes>"
            ],
            "image/png": "[encoded data removed]"
          },
          "metadata": {}
        }
      ]
    }
  ]
}